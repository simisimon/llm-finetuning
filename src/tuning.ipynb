{
 "cells": [
  {
   "cell_type": "markdown",
   "metadata": {},
   "source": [
    "**Setup development environment**\n",
    "\n",
    "The first step is to install Hugging Face libraies and PyTorch, including:\n",
    "\n",
    "- torch\n",
    "- trl (transformer reinforcement learning)\n",
    "- transformers\n",
    "- peft (parameter-efficient fine-tuning)\n",
    "- datasets\n",
    "- accelerate\n",
    "- bistandbytes\n",
    "- flash-attn\n",
    "\n",
    "To install all required libraries, first create a virtual environment (e.g., `python -m venv env` or ` conda create -n llm-tuning python==3.11`), then activate the virtual environment, and finally run `pip install -r requirements.txt`. This will take a while."
   ]
  },
  {
   "cell_type": "code",
   "execution_count": 8,
   "metadata": {},
   "outputs": [],
   "source": [
    "import os\n",
    "import torch\n",
    "import bitsandbytes as bnb\n",
    "import datetime\n",
    "import json\n",
    "import math\n",
    "import matplotlib.pyplot as plt\n",
    "from random import randrange\n",
    "from typing import Optional, List, Dict\n",
    "from datasets import load_dataset\n",
    "from peft import LoraConfig, get_peft_model, PeftModel\n",
    "from transformers import AutoModelForCausalLM, BitsAndBytesConfig, AutoTokenizer, TrainingArguments\n",
    "from transformers.utils import is_accelerate_available, is_bitsandbytes_available\n",
    "from transformers.trainer import TRAINER_STATE_NAME\n",
    "from trl import SFTTrainer"
   ]
  },
  {
   "cell_type": "code",
   "execution_count": 9,
   "metadata": {},
   "outputs": [
    {
     "name": "stdout",
     "output_type": "stream",
     "text": [
      "Is accelerate available?  True\n",
      "Is bitsandbytes available?  True\n",
      "\n",
      "Copy-and-paste the text below in your GitHub issue and FILL OUT the two last points.\n",
      "\n",
      "- `transformers` version: 4.38.2\n",
      "- Platform: Linux-5.15.0-97-generic-x86_64-with-glibc2.35\n",
      "- Python version: 3.11.7\n",
      "- Huggingface_hub version: 0.20.3\n",
      "- Safetensors version: 0.4.2\n",
      "- Accelerate version: 0.26.1\n",
      "- Accelerate config: \t- compute_environment: LOCAL_MACHINE\n",
      "\t- distributed_type: NO\n",
      "\t- mixed_precision: fp16\n",
      "\t- use_cpu: False\n",
      "\t- debug: False\n",
      "\t- num_processes: 1\n",
      "\t- machine_rank: 0\n",
      "\t- num_machines: 1\n",
      "\t- gpu_ids: all\n",
      "\t- rdzv_backend: static\n",
      "\t- same_network: True\n",
      "\t- main_training_function: main\n",
      "\t- downcast_bf16: no\n",
      "\t- tpu_use_cluster: False\n",
      "\t- tpu_use_sudo: False\n",
      "\t- tpu_env: []\n",
      "- PyTorch version (GPU?): 2.1.2+cu121 (True)\n",
      "- Tensorflow version (GPU?): not installed (NA)\n",
      "- Flax version (CPU?/GPU?/TPU?): not installed (NA)\n",
      "- Jax version: not installed\n",
      "- JaxLib version: not installed\n",
      "- Using GPU in script?: <fill in>\n",
      "- Using distributed or parallel set-up in script?: <fill in>\n",
      "\n"
     ]
    }
   ],
   "source": [
    "print(\"Is accelerate available? \", is_accelerate_available())\n",
    "print(\"Is bitsandbytes available? \", is_bitsandbytes_available())\n",
    "!transformers-cli env"
   ]
  },
  {
   "cell_type": "code",
   "execution_count": 10,
   "metadata": {},
   "outputs": [
    {
     "name": "stdout",
     "output_type": "stream",
     "text": [
      "Tue Mar 26 09:13:03 2024       \n",
      "+---------------------------------------------------------------------------------------+\n",
      "| NVIDIA-SMI 535.161.07             Driver Version: 535.161.07   CUDA Version: 12.2     |\n",
      "|-----------------------------------------+----------------------+----------------------+\n",
      "| GPU  Name                 Persistence-M | Bus-Id        Disp.A | Volatile Uncorr. ECC |\n",
      "| Fan  Temp   Perf          Pwr:Usage/Cap |         Memory-Usage | GPU-Util  Compute M. |\n",
      "|                                         |                      |               MIG M. |\n",
      "|=========================================+======================+======================|\n",
      "|   0  NVIDIA A100-PCIE-40GB          Off | 00000000:00:10.0 Off |                    0 |\n",
      "| N/A   29C    P0              35W / 250W |      3MiB / 40960MiB |      0%      Default |\n",
      "|                                         |                      |             Disabled |\n",
      "+-----------------------------------------+----------------------+----------------------+\n",
      "                                                                                         \n",
      "+---------------------------------------------------------------------------------------+\n",
      "| Processes:                                                                            |\n",
      "|  GPU   GI   CI        PID   Type   Process name                            GPU Memory |\n",
      "|        ID   ID                                                             Usage      |\n",
      "|=======================================================================================|\n",
      "|  No running processes found                                                           |\n",
      "+---------------------------------------------------------------------------------------+\n"
     ]
    }
   ],
   "source": [
    "!nvidia-smi"
   ]
  },
  {
   "cell_type": "markdown",
   "metadata": {},
   "source": [
    "**Create and prepare dataset**\n",
    "\n",
    "There are several ways to create datasets for LLM fine-tuning, including:\n",
    "- using existing open-source datasets\n",
    "- using LLMs to create synthetically datasets\n",
    "- using humans to create datasets \n",
    "- using a combination of the above methods\n",
    "\n",
    "We use an aleardy exsiting dataset from Hugginface called: [CodeInstructions](https://huggingface.co/datasets/TokenBender/code_instructions_122k_alpaca_style)"
   ]
  },
  {
   "cell_type": "code",
   "execution_count": 11,
   "metadata": {},
   "outputs": [
    {
     "name": "stdout",
     "output_type": "stream",
     "text": [
      "Dataset({\n",
      "    features: ['output', 'instruction', 'input', 'text'],\n",
      "    num_rows: 100\n",
      "})\n",
      "Instruction:  Generate a SQL query to retrieve records between two specified dates.\n",
      "input:  Start date: 30/03/2021 \n",
      "End date: 03/04/2021\n",
      "Output:  SELECT * \n",
      "FROM table \n",
      "WHERE date BETWEEN '30/03/2021' and '03/04/2021';\n"
     ]
    }
   ],
   "source": [
    "# load existing dataset from hugginface\n",
    "dataset = load_dataset(\"TokenBender/code_instructions_122k_alpaca_style\", split=\"train\")\n",
    "dataset = dataset.shuffle().select(range(100))\n",
    "\n",
    "print(dataset)\n",
    "print(\"Instruction: \", dataset[0][\"instruction\"])\n",
    "print(\"input: \",dataset[0][\"input\"])\n",
    "print(\"Output: \", dataset[0][\"output\"])\n"
   ]
  },
  {
   "cell_type": "markdown",
   "metadata": {},
   "source": [
    "**Format dataset**\n",
    "\n",
    "In order to leverage instructing fine-tuning for Mistral, we need to surround our prompts by [INST] and [/INST] tokens. Additionally, the very first instruction should begin with a begin of sequence token and the assistant generation will be ended by the end of sequence token."
   ]
  },
  {
   "cell_type": "code",
   "execution_count": 12,
   "metadata": {},
   "outputs": [
    {
     "data": {
      "application/vnd.jupyter.widget-view+json": {
       "model_id": "d41371cc2a634c28a315608b40144b0f",
       "version_major": 2,
       "version_minor": 0
      },
      "text/plain": [
       "Map:   0%|          | 0/100 [00:00<?, ? examples/s]"
      ]
     },
     "metadata": {},
     "output_type": "display_data"
    },
    {
     "data": {
      "application/vnd.jupyter.widget-view+json": {
       "model_id": "a6eaa016b5fe4196b2bf18f906728835",
       "version_major": 2,
       "version_minor": 0
      },
      "text/plain": [
       "Creating json from Arrow format:   0%|          | 0/1 [00:00<?, ?ba/s]"
      ]
     },
     "metadata": {},
     "output_type": "display_data"
    },
    {
     "data": {
      "application/vnd.jupyter.widget-view+json": {
       "model_id": "4a86a517361d46a8b2568e264a02449b",
       "version_major": 2,
       "version_minor": 0
      },
      "text/plain": [
       "Creating json from Arrow format:   0%|          | 0/1 [00:00<?, ?ba/s]"
      ]
     },
     "metadata": {},
     "output_type": "display_data"
    },
    {
     "name": "stdout",
     "output_type": "stream",
     "text": [
      "<s>[INST] Below is an instruction that describes a task. Write a response that appropriately completes the request. \n",
      "\n",
      "### Instruction: Create a SQL query that retrieves the data sorted in descending order for all customers who have purchased the product \"tv\". \n",
      "\n",
      "### Input: Not applicable [/INST] \n",
      "\n",
      "SELECT customer.name, customer.purchase_date \n",
      "FROM customer \n",
      "INNER JOIN products\n",
      "  ON customer.products_id=products.id\n",
      "WHERE products.name=\"TV\"\n",
      "ORDER BY customer.purchase_date DESC</s>\n"
     ]
    }
   ],
   "source": [
    "MISTRAL_TEMPLATE = \"\"\"<s>[INST] Below is an instruction that describes a task. Write a response that appropriately completes the request. \n",
    "\n",
    "### Instruction: {} \n",
    "\n",
    "### Input: {} [/INST] \n",
    "\n",
    "{}</s>\"\"\"\n",
    "\n",
    "\n",
    "def format_data(sample: Dict):\n",
    "    return {\n",
    "        \"text\": MISTRAL_TEMPLATE.format(sample[\"instruction\"], sample[\"input\"], sample[\"output\"]),\n",
    "        \"instruction\": sample[\"instruction\"],\n",
    "        \"input\": sample[\"input\"],\n",
    "        \"output\": sample[\"output\"]\n",
    "    }\n",
    "\n",
    "# convert dataset\n",
    "dataset = dataset.map(format_data, remove_columns=dataset.features)\n",
    "\n",
    "# split dataset into 80 training samples and 20 test sample\n",
    "dataset = dataset.train_test_split(test_size=0.2)\n",
    "\n",
    "# save datasets to disk\n",
    "dataset[\"train\"].to_json(\"../data/train_dataset.json\", orient=\"records\")\n",
    "dataset[\"test\"].to_json(\"../data/test_dataset.json\", orient=\"records\")\n",
    "\n",
    "print(dataset[\"train\"][60][\"text\"])"
   ]
  },
  {
   "cell_type": "markdown",
   "metadata": {},
   "source": [
    "**Load Model and Tokenizer**\n",
    "\n",
    "1. Define quantization configuration\n",
    "2. Load base model \n",
    "3. Load tokenizer\n",
    "4. Inference with base model"
   ]
  },
  {
   "cell_type": "code",
   "execution_count": 13,
   "metadata": {},
   "outputs": [
    {
     "data": {
      "application/vnd.jupyter.widget-view+json": {
       "model_id": "3e06f4b2d2ce4468b3d4e487778de4e9",
       "version_major": 2,
       "version_minor": 0
      },
      "text/plain": [
       "Loading checkpoint shards:   0%|          | 0/3 [00:00<?, ?it/s]"
      ]
     },
     "metadata": {},
     "output_type": "display_data"
    }
   ],
   "source": [
    "# load bnb config\n",
    "bnb_config = BitsAndBytesConfig(\n",
    "    load_in_4bit=True,                             # load in 4bits\n",
    "    bnb_4bit_use_double_quant=True,                # double quantize (quantize weightes and quantize the first quantization constants)\n",
    "    bnb_4bit_quant_type=\"nf4\",                     # use NF4 (normalized fp4)\n",
    "    bnb_4bit_compute_dtype=torch.float16           # compute type is float16 (computations runs in float16)\n",
    ")\n",
    "\n",
    "model_name = \"mistralai/Mistral-7B-Instruct-v0.2\"\n",
    "\n",
    "# load base model with QLoRA configuration\n",
    "base_model = AutoModelForCausalLM.from_pretrained(\n",
    "    model_name,          # model name\n",
    "    quantization_config=bnb_config,                # bnb config\n",
    "    device_map=\"auto\",                             # auto selects device to put model on; ensures that model is moved to the GPU\n",
    "    attn_implementation=\"flash_attention_2\"        # attention implementation to use in the model\n",
    ")\n",
    "\n",
    "# load tokenizer\n",
    "tokenizer = AutoTokenizer.from_pretrained(model_name)\n",
    "tokenizer.pad_token = tokenizer.unk_token          # we want the pad_token to be different from the eos token\n",
    "tokenizer.padding_side = 'right'                   # prevent warnings\n",
    "\n",
    "# add special tokens to indicate the start and end of a prompt\n",
    "#tokenizer.add_special_tokens({\"bos_token\": \"<s>\"})\n",
    "#tokenizer.add_special_tokens({\"eos_token\": \"</s>\"})\n",
    "#tokenizer.add_special_tokens({\"unk_token\": \"<unk>\"})"
   ]
  },
  {
   "cell_type": "code",
   "execution_count": 14,
   "metadata": {},
   "outputs": [
    {
     "name": "stderr",
     "output_type": "stream",
     "text": [
      "Asking to truncate to max_length but no maximum length is provided and the model has no predefined maximum length. Default to no truncation.\n"
     ]
    },
    {
     "name": "stdout",
     "output_type": "stream",
     "text": [
      "Print hello world in python c and c++.\n",
      "\n",
      "To print \"Hello World\" in Python, you can use the following code:\n",
      "\n",
      "```python\n",
      "print(\"Hello World\")\n",
      "```\n",
      "\n",
      "In C, you can use the `printf` function to print \"Hello World\" to the console:\n",
      "\n",
      "```c\n",
      "#include <stdio.h>\n",
      "\n",
      "int main() {\n",
      "    printf(\"Hello World\\n\");\n",
      "    return 0;\n",
      "}\n",
      "```\n",
      "\n",
      "In C++, you can use the `std::cout` stream to print \"Hello World\" to the console:\n",
      "\n",
      "```cpp\n",
      "#include <iostream>\n",
      "\n",
      "int main() {\n",
      "    std::cout << \"Hello World\" << std::endl;\n",
      "    return 0;\n",
      "}\n",
      "```\n",
      "\n",
      "Note that in C and C++, you will need to compile and run the code using a compiler such as gcc or clang. In Python, you can simply run the code in a Python interpreter or save it to a file with a `.py` extension and run it using the Python interpreter.\n"
     ]
    }
   ],
   "source": [
    "prompt = \"\"\"Print hello world in python c and c++.\"\"\"\n",
    "\n",
    "base_model.eval()\n",
    "with torch.no_grad():\n",
    "    input_ids = tokenizer(prompt, return_tensors=\"pt\", truncation=True).input_ids.cuda()\n",
    "    output = base_model.generate(input_ids=input_ids, max_new_tokens=1000, pad_token_id=tokenizer.unk_token_id)\n",
    "    response = tokenizer.batch_decode(output.detach().cpu().numpy(), skip_special_tokens=True)[0]\n",
    "\n",
    "    print(response)"
   ]
  },
  {
   "cell_type": "markdown",
   "metadata": {},
   "source": [
    "**Define LoRa Config**\n",
    "\n",
    "Since we do not train all the parameters but only a small subset, we have to add the LoRA to the model using `peft`.\n",
    "\n",
    "1. Find trainable layers\n",
    "2. Define LoRA Config\n",
    "3. Get PEFT Model"
   ]
  },
  {
   "cell_type": "code",
   "execution_count": 15,
   "metadata": {},
   "outputs": [
    {
     "name": "stdout",
     "output_type": "stream",
     "text": [
      "['q_proj', 'o_proj', 'k_proj', 'gate_proj', 'down_proj', 'up_proj', 'v_proj']\n"
     ]
    }
   ],
   "source": [
    "# find all linear layers\n",
    "def find_all_linear_names(model):\n",
    "    cls = bnb.nn.Linear4bit\n",
    "    lora_module_names = set()\n",
    "    for name, module in model.named_modules():\n",
    "        if isinstance(module, cls):\n",
    "            names = name.split('.')\n",
    "            lora_module_names.add(names[0] if len(names) == 1 else names[-1])\n",
    "\n",
    "    if 'lm_head' in lora_module_names:  # needed for 16-bit\n",
    "        lora_module_names.remove('lm_head')\n",
    "    return list(lora_module_names)\n",
    "\n",
    "\n",
    "modules = find_all_linear_names(base_model)\n",
    "\n",
    "# [\"q_proj\", \"o_proj\", \"k_proj\", \"v_proj\", \"gate_proj\", \"up_proj\", \"down_proj\", \"lm_head\"]\n",
    "\n",
    "print(modules)"
   ]
  },
  {
   "cell_type": "code",
   "execution_count": 16,
   "metadata": {},
   "outputs": [],
   "source": [
    "# define LoRA config\n",
    "lora_config = LoraConfig(\n",
    "    r=256,                                       # rank of the update matrices, expressed in `int`. Lower rank results in smaller update matrices with fewer trainable parameters\n",
    "    lora_alpha=128,                              # alpha parameter for LoRA scaling\n",
    "    lora_dropout=0.05,                           # dropout probability for LoRA layers\n",
    "    target_modules=\"all-linear\",                 # name of modules to apply the adapter to\n",
    "    bias=\"none\",                                 # bias type for LoRA\n",
    "    task_type=\"CAUSAL_LM\",                       # type of task to perform\n",
    "    )"
   ]
  },
  {
   "cell_type": "code",
   "execution_count": 17,
   "metadata": {},
   "outputs": [
    {
     "name": "stdout",
     "output_type": "stream",
     "text": [
      "Trainable: 671088640 | total: 7912820736 | Percentage: 8.4810%\n"
     ]
    }
   ],
   "source": [
    "# get PEFT model\n",
    "peft_model = get_peft_model(base_model, lora_config)\n",
    "\n",
    "trainable, total = peft_model.get_nb_trainable_parameters()\n",
    "print(f\"Trainable: {trainable} | total: {total} | Percentage: {trainable/total*100:.4f}%\")"
   ]
  },
  {
   "cell_type": "markdown",
   "metadata": {},
   "source": [
    "**Fine-tune LLM**\n",
    "\n",
    "To fine-tune a LLM, we first need to specify the hyperparameters. Hyperparameters can significantly impact the model performance.\n",
    "\n",
    "1. Define training argumnets\n",
    "2. Define SFTTrainer\n",
    "3. Start Fine-Tuning\n",
    "4. Print Loss"
   ]
  },
  {
   "cell_type": "code",
   "execution_count": 18,
   "metadata": {},
   "outputs": [],
   "source": [
    "output_dir = \"../data/saved_models/mistral-instruct\"\n",
    "os.makedirs(output_dir, exist_ok=True)\n",
    "time = datetime.datetime.now().strftime(\"%Y-%m-%d_%H:%M:%S\")\n",
    "\n",
    "# define training arguments\n",
    "training_args = TrainingArguments(\n",
    "    output_dir=output_dir,                                # directory to save and repository id\n",
    "    max_steps=20,                                         # total number of training steps to perform\n",
    "    num_train_epochs=1,                                   # number of training epochs\n",
    "    per_device_train_batch_size=3,                        # batch size per device during training\n",
    "    gradient_accumulation_steps=2,                        # number of steps before performing a backward/update pass\n",
    "    gradient_checkpointing=True,                          # use gradient checkpointing to save memory\n",
    "    optim=\"adamw_torch_fused\",                            # use fused adamw optimizer\n",
    "    logging_steps=10,                                     # log every 10 steps\n",
    "    save_strategy=\"steps\",                                # save checkpoint every 10th step\n",
    "    save_steps=10,                                        #\n",
    "    save_total_limit=10,                                  #\n",
    "    learning_rate=2e-4,                                   # learning rate, based on QLoRA paper\n",
    "    bf16=True,                                            # use bfloat16 precision\n",
    "    tf32=True,                                            # use tf32 precision\n",
    "    max_grad_norm=0.3,                                    # max gradient norm based on QLoRA paper\n",
    "    warmup_ratio=0.03,                                    # warmup ratio based on QLoRA paper\n",
    "    lr_scheduler_type=\"constant\",                         # use constant learning rate scheduler\n",
    "    run_name=\"mistral-instruct_{time}\".format(time=time),\n",
    "    report_to=\"mlflow\",                                   # report metrics to mlflow\n",
    ")"
   ]
  },
  {
   "cell_type": "code",
   "execution_count": 19,
   "metadata": {},
   "outputs": [
    {
     "data": {
      "application/vnd.jupyter.widget-view+json": {
       "model_id": "75b3d25301444a3697412dd41be33b74",
       "version_major": 2,
       "version_minor": 0
      },
      "text/plain": [
       "Generating train split: 0 examples [00:00, ? examples/s]"
      ]
     },
     "metadata": {},
     "output_type": "display_data"
    },
    {
     "data": {
      "application/vnd.jupyter.widget-view+json": {
       "model_id": "dcbb697e91c04ec6936fa903184d8a82",
       "version_major": 2,
       "version_minor": 0
      },
      "text/plain": [
       "Map:   0%|          | 0/80 [00:00<?, ? examples/s]"
      ]
     },
     "metadata": {},
     "output_type": "display_data"
    },
    {
     "name": "stderr",
     "output_type": "stream",
     "text": [
      "`use_cache=True` is incompatible with gradient checkpointing. Setting `use_cache=False`...\n",
      "/home/ssimon/miniconda3/envs/llm-config-env/lib/python3.11/site-packages/torch/utils/checkpoint.py:429: UserWarning: torch.utils.checkpoint: please pass in use_reentrant=True or use_reentrant=False explicitly. The default value of use_reentrant will be updated to be False in the future. To maintain current behavior, pass use_reentrant=True. It is recommended that you use use_reentrant=False. Refer to docs for more details on the differences between the two variants.\n",
      "  warnings.warn(\n",
      "The input hidden states seems to be silently casted in float32, this might be related to the fact you have upcasted embedding or layer norm layers in float32. We will cast back the input in torch.bfloat16.\n"
     ]
    },
    {
     "data": {
      "text/html": [
       "\n",
       "    <div>\n",
       "      \n",
       "      <progress value='20' max='20' style='width:300px; height:20px; vertical-align: middle;'></progress>\n",
       "      [20/20 01:48, Epoch 1/2]\n",
       "    </div>\n",
       "    <table border=\"1\" class=\"dataframe\">\n",
       "  <thead>\n",
       " <tr style=\"text-align: left;\">\n",
       "      <th>Step</th>\n",
       "      <th>Training Loss</th>\n",
       "    </tr>\n",
       "  </thead>\n",
       "  <tbody>\n",
       "    <tr>\n",
       "      <td>10</td>\n",
       "      <td>0.978600</td>\n",
       "    </tr>\n",
       "    <tr>\n",
       "      <td>20</td>\n",
       "      <td>0.427100</td>\n",
       "    </tr>\n",
       "  </tbody>\n",
       "</table><p>"
      ],
      "text/plain": [
       "<IPython.core.display.HTML object>"
      ]
     },
     "metadata": {},
     "output_type": "display_data"
    },
    {
     "name": "stderr",
     "output_type": "stream",
     "text": [
      "Checkpoint destination directory ../data/saved_models/mistral-instruct/checkpoint-10 already exists and is non-empty. Saving will proceed but saved results may be invalid.\n",
      "/home/ssimon/miniconda3/envs/llm-config-env/lib/python3.11/site-packages/torch/utils/checkpoint.py:429: UserWarning: torch.utils.checkpoint: please pass in use_reentrant=True or use_reentrant=False explicitly. The default value of use_reentrant will be updated to be False in the future. To maintain current behavior, pass use_reentrant=True. It is recommended that you use use_reentrant=False. Refer to docs for more details on the differences between the two variants.\n",
      "  warnings.warn(\n",
      "Checkpoint destination directory ../data/saved_models/mistral-instruct/checkpoint-20 already exists and is non-empty. Saving will proceed but saved results may be invalid.\n"
     ]
    },
    {
     "name": "stdout",
     "output_type": "stream",
     "text": [
      "***** train metrics *****\n",
      "  epoch                    =       1.48\n",
      "  total_flos               =  1593815GF\n",
      "  train_loss               =     0.7029\n",
      "  train_runtime            = 0:01:50.23\n",
      "  train_samples_per_second =      1.089\n",
      "  train_steps_per_second   =      0.181\n",
      "{'train_runtime': 110.2315, 'train_samples_per_second': 1.089, 'train_steps_per_second': 0.181, 'total_flos': 1711346618523648.0, 'train_loss': 0.70288987159729, 'epoch': 1.48}\n"
     ]
    },
    {
     "data": {
      "text/plain": [
       "('../data/saved_models/mistral-instruct/final_checkpoint/tokenizer_config.json',\n",
       " '../data/saved_models/mistral-instruct/final_checkpoint/special_tokens_map.json',\n",
       " '../data/saved_models/mistral-instruct/final_checkpoint/tokenizer.model',\n",
       " '../data/saved_models/mistral-instruct/final_checkpoint/added_tokens.json',\n",
       " '../data/saved_models/mistral-instruct/final_checkpoint/tokenizer.json')"
      ]
     },
     "execution_count": 19,
     "metadata": {},
     "output_type": "execute_result"
    }
   ],
   "source": [
    "# load training dataset\n",
    "train_dataset = load_dataset(\"json\", data_files=\"../data/train_dataset.json\", split=\"train\")\n",
    "\n",
    "max_seq_length = 8128 # max sequence length for model and packing of the dataset\n",
    "\n",
    "# define SFTTrainer\n",
    "trainer = SFTTrainer(\n",
    "    model=base_model,\n",
    "    args=training_args,\n",
    "    train_dataset=train_dataset,\n",
    "    peft_config=lora_config,\n",
    "    max_seq_length=max_seq_length,\n",
    "    tokenizer=tokenizer,\n",
    "    dataset_text_field=\"text\",\n",
    "    packing=False,\n",
    ")\n",
    "\n",
    "# start training\n",
    "train_result = trainer.train()\n",
    "metrics = train_result.metrics\n",
    "trainer.log_metrics(\"train\", metrics)\n",
    "trainer.save_metrics(\"train\", metrics)\n",
    "trainer.save_state()\n",
    "print(metrics) \n",
    "\n",
    "# save model and tokenizer\n",
    "trainer.model.save_pretrained(os.path.join(output_dir, \"final_checkpoint/\"))\n",
    "trainer.tokenizer.save_pretrained(os.path.join(output_dir, \"final_checkpoint/\"))"
   ]
  },
  {
   "cell_type": "code",
   "execution_count": 20,
   "metadata": {},
   "outputs": [
    {
     "name": "stdout",
     "output_type": "stream",
     "text": [
      "Figure saved: ../data/saved_models/mistral-instruct/training_loss.png\n"
     ]
    },
    {
     "data": {
      "image/png": "[encoded data removed]",
      "text/plain": [
       "<Figure size 640x480 with 1 Axes>"
      ]
     },
     "metadata": {},
     "output_type": "display_data"
    }
   ],
   "source": [
    "def smooth(scalars: List[float]) -> List[float]:\n",
    "    last = scalars[0]\n",
    "    smoothed = list()\n",
    "    weight = 1.8 * (1 / (1 + math.exp(-0.05 * len(scalars))) - 0.5)  # a sigmoid function\n",
    "    for next_val in scalars:\n",
    "        smoothed_val = last * weight + (1 - weight) * next_val\n",
    "        smoothed.append(smoothed_val)\n",
    "        last = smoothed_val\n",
    "    return smoothed\n",
    "\n",
    "\n",
    "def plot_loss(save_directory: os.PathLike, keys: Optional[List[str]] = [\"loss\"]): \n",
    "    with open(os.path.join(save_directory, TRAINER_STATE_NAME), \"r\", encoding=\"utf-8\") as f:\n",
    "        data = json.load(f)\n",
    "\n",
    "    for key in keys:\n",
    "        steps, metrics = [], []\n",
    "        for i in range(len(data[\"log_history\"])):\n",
    "            if key in data[\"log_history\"][i]:\n",
    "                steps.append(data[\"log_history\"][i][\"step\"])\n",
    "                metrics.append(data[\"log_history\"][i][key])\n",
    "\n",
    "        if len(metrics) == 0:\n",
    "            print(f\"No metric {key} to plot.\")\n",
    "            continue\n",
    "\n",
    "        plt.figure()\n",
    "        plt.plot(steps, metrics, alpha=0.4, label=\"original\")\n",
    "        plt.plot(steps, smooth(metrics), label=\"smoothed\")\n",
    "        plt.title(\"training {} of {}\".format(key, save_directory))\n",
    "        plt.xlabel(\"step\")\n",
    "        plt.ylabel(key)\n",
    "        plt.legend()\n",
    "        plt.savefig(os.path.join(save_directory, \"training_{}.png\".format(key)), format=\"png\", dpi=100)\n",
    "        print(\"Figure saved:\", os.path.join(save_directory, \"training_{}.png\".format(key)))\n",
    "\n",
    "# plot loss\n",
    "plot_loss(save_directory=output_dir)"
   ]
  },
  {
   "cell_type": "markdown",
   "metadata": {},
   "source": [
    "**Inference with the fine-tuned Model**\n",
    "\n",
    "1. Load test dataset and prepare test prompt\n",
    "2. Load base model and tokenizer\n",
    "2. Merge weights\n",
    "3. Run inference with fine-tuned model"
   ]
  },
  {
   "cell_type": "code",
   "execution_count": 21,
   "metadata": {},
   "outputs": [
    {
     "data": {
      "application/vnd.jupyter.widget-view+json": {
       "model_id": "aaf53075e2f44faeb343035a500b53d3",
       "version_major": 2,
       "version_minor": 0
      },
      "text/plain": [
       "Generating train split: 0 examples [00:00, ? examples/s]"
      ]
     },
     "metadata": {},
     "output_type": "display_data"
    },
    {
     "data": {
      "text/plain": [
       "'<s>[INST] Below is an instruction that describes a task. Write a response that appropriately completes the request. \\n\\n### Instruction: You need to create a multiple choice question based on a given code. \\n\\n### Input: x = [1, 2, 3, 4, 5]\\ny = [2, 3, 1, 5, 4] [/INST]'"
      ]
     },
     "execution_count": 21,
     "metadata": {},
     "output_type": "execute_result"
    }
   ],
   "source": [
    "# load test dataset\n",
    "test_dataset = load_dataset(\"json\", data_files=\"../data/test_dataset.json\", split=\"train\")\n",
    "\n",
    "MISTRAL_INFERENCE_TEMPLATE = \"\"\"<s>[INST] Below is an instruction that describes a task. Write a response that appropriately completes the request. \n",
    "\n",
    "### Instruction: {} \n",
    "\n",
    "### Input: {} [/INST]\"\"\"\n",
    "\n",
    "test_sample = test_dataset[randrange(20)]\n",
    "\n",
    "prompt = MISTRAL_INFERENCE_TEMPLATE.format(test_sample[\"instruction\"], test_sample[\"input\"])\n",
    "\n",
    "prompt"
   ]
  },
  {
   "cell_type": "code",
   "execution_count": 22,
   "metadata": {},
   "outputs": [
    {
     "data": {
      "application/vnd.jupyter.widget-view+json": {
       "model_id": "c53fcb6cd24841328fed5c29b3e71a70",
       "version_major": 2,
       "version_minor": 0
      },
      "text/plain": [
       "Loading checkpoint shards:   0%|          | 0/3 [00:00<?, ?it/s]"
      ]
     },
     "metadata": {},
     "output_type": "display_data"
    }
   ],
   "source": [
    "# load base model\n",
    "base_model = AutoModelForCausalLM.from_pretrained(\n",
    "    model_name,\n",
    "    low_cpu_mem_usage=True,                          # tries to not use more than 1x model size in CPU memory (including peak memory) while loading the model\n",
    "    return_dict=True,\n",
    "    torch_dtype=torch.bfloat16, \n",
    "    device_map=\"auto\",\n",
    "    attn_implementation=\"flash_attention_2\"\n",
    ")\n",
    "\n",
    "# load tokenizer\n",
    "tokenizer = AutoTokenizer.from_pretrained(model_name)\n",
    "tokenizer.pad_token = tokenizer.unk_token"
   ]
  },
  {
   "cell_type": "code",
   "execution_count": 23,
   "metadata": {},
   "outputs": [
    {
     "data": {
      "text/plain": [
       "('../data/saved_models/mistral-instruct/final-merged-checkpoint/tokenizer_config.json',\n",
       " '../data/saved_models/mistral-instruct/final-merged-checkpoint/special_tokens_map.json',\n",
       " '../data/saved_models/mistral-instruct/final-merged-checkpoint/tokenizer.model',\n",
       " '../data/saved_models/mistral-instruct/final-merged-checkpoint/added_tokens.json',\n",
       " '../data/saved_models/mistral-instruct/final-merged-checkpoint/tokenizer.json')"
      ]
     },
     "execution_count": 23,
     "metadata": {},
     "output_type": "execute_result"
    }
   ],
   "source": [
    "# specify adapter path\n",
    "adapter_path = os.path.join(output_dir, \"final_checkpoint\")\n",
    "\n",
    "# merge LoRA weights with base model base model and save\n",
    "merged_model= PeftModel.from_pretrained(base_model, adapter_path)\n",
    "merged_model = merged_model.merge_and_unload()\n",
    "\n",
    "# save merged model\n",
    "merged_model.save_pretrained(os.path.join(output_dir, \"final-merged-checkpoint\"), safe_serialization=True, max_shard_size='4GB')\n",
    "tokenizer.save_pretrained(os.path.join(output_dir, \"final-merged-checkpoint\"))"
   ]
  },
  {
   "cell_type": "code",
   "execution_count": 24,
   "metadata": {},
   "outputs": [
    {
     "name": "stderr",
     "output_type": "stream",
     "text": [
      "Asking to truncate to max_length but no maximum length is provided and the model has no predefined maximum length. Default to no truncation.\n"
     ]
    },
    {
     "name": "stdout",
     "output_type": "stream",
     "text": [
      "[INST] Below is an instruction that describes a task. Write a response that appropriately completes the request. \n",
      "\n",
      "### Instruction: You need to create a multiple choice question based on a given code. \n",
      "\n",
      "### Input: x = [1, 2, 3, 4, 5]\n",
      "y = [2, 3, 1, 5, 4] [/INST] \n",
      "\n",
      "Which element is common to both lists x and y? \n",
      "\n",
      "A)  [/INST] \n",
      "\n",
      "1) [/INST] \n",
      "\n",
      "The common element is 1.\n"
     ]
    }
   ],
   "source": [
    "# Run inference\n",
    "merged_model.eval()\n",
    "with torch.no_grad():\n",
    "    input_ids = tokenizer(prompt, return_tensors=\"pt\", truncation=True).input_ids.cuda()\n",
    "    output = merged_model.generate(input_ids=input_ids, max_new_tokens=1000, pad_token_id=tokenizer.unk_token_id)\n",
    "    response = tokenizer.batch_decode(output.detach().cpu().numpy(), skip_special_tokens=True)[0]\n",
    "\n",
    "    print(response)"
   ]
  }
 ],
 "metadata": {
  "kernelspec": {
   "display_name": "env",
   "language": "python",
   "name": "python3"
  },
  "language_info": {
   "codemirror_mode": {
    "name": "ipython",
    "version": 3
   },
   "file_extension": ".py",
   "mimetype": "text/x-python",
   "name": "python",
   "nbconvert_exporter": "python",
   "pygments_lexer": "ipython3",
   "version": "3.11.7"
  }
 },
 "nbformat": 4,
 "nbformat_minor": 2
}
